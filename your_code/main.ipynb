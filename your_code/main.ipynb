{
 "cells": [
  {
   "cell_type": "markdown",
   "metadata": {},
   "source": [
    "## Question 1\n",
    "The following table indicates the number of 6-point scores in an American rugby match in the 1979 season.\n",
    "\n",
    "![](table1.png)\n",
    "\n",
    "Based on these results, we create a Poisson distribution with the sample mean parameter  = 2.435. Is there any reason to believe that at a .05 level the number of scores is a Poisson variable?"
   ]
  },
  {
   "cell_type": "code",
   "execution_count": 8,
   "metadata": {},
   "outputs": [],
   "source": [
    "#import libraries\n",
    "import scipy\n",
    "import numpy as np\n",
    "import pandas as pd\n",
    "from scipy import stats\n",
    "from scipy.stats import poisson\n",
    "import matplotlib.pyplot as plt\n"
   ]
  },
  {
   "cell_type": "code",
   "execution_count": 3,
   "metadata": {},
   "outputs": [
    {
     "data": {
      "text/plain": [
       "array([0.08759775, 0.21330051, 0.25969338, 0.21078446, 0.12831504,\n",
       "       0.06248942, 0.02536029, 0.01245915])"
      ]
     },
     "execution_count": 3,
     "metadata": {},
     "output_type": "execute_result"
    }
   ],
   "source": [
    "#H0: The sample follows a Poisson distribution \n",
    "size = 448\n",
    "observed = np.array([35, 99, 104, 110, 62, 25, 10, 3])/size\n",
    "\n",
    "#create a Poisson distribution with the sample mean parameter = 2.435 \n",
    "mean =2.435\n",
    "poiss = np.array([poisson.pmf(x,mean) for x in range(7)])\n",
    "poiss = np.append(poiss,1-sum(poiss))\n",
    "poiss"
   ]
  },
  {
   "cell_type": "code",
   "execution_count": 4,
   "metadata": {},
   "outputs": [
    {
     "data": {
      "text/plain": [
       "Power_divergenceResult(statistic=0.014489532770334417, pvalue=0.9999999972330947)"
      ]
     },
     "execution_count": 4,
     "metadata": {},
     "output_type": "execute_result"
    }
   ],
   "source": [
    "#use Chi square to compare observed (table) with expected Poisson results\n",
    "stats.chisquare(observed, poiss)\n",
    "\n",
    "#being the p-value close to 1 we do not reject the null hypothesis and therefore there is evidence\n",
    "#of similarity between the observed and the expected observations and therefore therefore it is likely \n",
    "#that the number scores follows a poisson distribution"
   ]
  },
  {
   "cell_type": "markdown",
   "metadata": {},
   "source": [
    "## Question 2\n",
    "The following are the ordered values of a random sample of SAT scores (university entrance exam) for several students: 852, 875, 910, 933, 957, 963, 981, 998, 1010, 1015, 1018, 1023, 1035, 1048, 1063. In previous years, the scores were presented by N (985,50). Based on the sample, is there any reason to believe that there has been a change in the distribution of scores this year? Use the level alpha = 0.05. "
   ]
  },
  {
   "cell_type": "code",
   "execution_count": 5,
   "metadata": {},
   "outputs": [
    {
     "data": {
      "text/plain": [
       "KstestResult(statistic=0.1581291279406798, pvalue=0.847406396427736)"
      ]
     },
     "execution_count": 5,
     "metadata": {},
     "output_type": "execute_result"
    }
   ],
   "source": [
    "observed = np.array([852, 875, 910, 933, 957, 963, 981, 998, 1010, 1015, 1018, 1023, 1035, 1048, 1063])\n",
    "\n",
    "#we need to test if the sample follows a normal distribution (H0) --> N (985,50)\n",
    "expected = stats.norm(loc = 985, scale =50)\n",
    "\n",
    "#to test for normal dist we use Kolmogorov-Smirnov Goodness of Fit Test\n",
    "stats.kstest(observed, expected.cdf)\n",
    "\n",
    "#results show evidence for similarity with N (985,50), as we are not rejecting the H0"
   ]
  },
  {
   "cell_type": "markdown",
   "metadata": {},
   "source": [
    "## Question 3\n",
    "Let's analyze a discrete distribution. To analyze the number of defective items in a factory in the city of Medellín, we took a random sample of n = 60 articles and observed the number of defectives in the following table:\n",
    "\n",
    "![](table2.png)\n",
    "\n",
    "A poissón distribution was proposed since it is defined for x = 0,1,2,3, .... using the following model:\n",
    "\n",
    "![](image1.png)\n",
    "\n",
    "Does the distribution of defective items follow this distribution?"
   ]
  },
  {
   "cell_type": "code",
   "execution_count": 9,
   "metadata": {},
   "outputs": [
    {
     "data": {
      "text/plain": [
       "Power_divergenceResult(statistic=37.72656768931596, pvalue=1.2759420913385983e-07)"
      ]
     },
     "execution_count": 9,
     "metadata": {},
     "output_type": "execute_result"
    }
   ],
   "source": [
    "observed = np.array([32,15,0,9,4])\n",
    "label = np.array([0,1,2,3,4])\n",
    "total = 60\n",
    "\n",
    "mean_defective = sum(observed*label)/total\n",
    "expected = [poisson.pmf(x, mean_defective)*total for x in range(5)]\n",
    "\n",
    "stats.chisquare(observed, f_exp=expected)\n",
    "\n",
    "#p-value is very small -> we reject null hypothesis \n",
    "#distribution of defective items doesn't seem to follow poisson distribution"
   ]
  },
  {
   "cell_type": "code",
   "execution_count": 10,
   "metadata": {},
   "outputs": [
    {
     "data": {
      "text/plain": [
       "[<matplotlib.lines.Line2D at 0x1a1f1b7bd0>]"
      ]
     },
     "execution_count": 10,
     "metadata": {},
     "output_type": "execute_result"
    },
    {
     "data": {
      "image/png": "[encoded data removed]",
      "text/plain": [
       "<Figure size 432x288 with 1 Axes>"
      ]
     },
     "metadata": {
      "needs_background": "light"
     },
     "output_type": "display_data"
    }
   ],
   "source": [
    "#let's plot it\n",
    "plt.plot(observed)\n",
    "plt.plot(expected)\n",
    "\n",
    "#confirms the results above the 2 distributions don't seem very similar"
   ]
  },
  {
   "cell_type": "markdown",
   "metadata": {},
   "source": [
    "## Question 4\n",
    "A quality control engineer takes a sample of 10 tires that come out of an assembly line, and would like to verify on the basis of the data that follows, if the number of tires with defects observed over 200 days, if it is true that 5% of all tires have defects (that is, if the sample comes from a binomial population with n = 10 and p = 0.05). \n",
    "\n",
    "![](table3.png)\n"
   ]
  },
  {
   "cell_type": "code",
   "execution_count": 12,
   "metadata": {},
   "outputs": [
    {
     "data": {
      "text/plain": [
       "Power_divergenceResult(statistic=8.30617951954273, pvalue=0.015715783395951474)"
      ]
     },
     "execution_count": 12,
     "metadata": {},
     "output_type": "execute_result"
    }
   ],
   "source": [
    "# check if the data follows a binominal distribution\n",
    "\n",
    "observed = [138, 53, 9]\n",
    "\n",
    "binom = [stats.binom.pmf(x, 10, 0.05) for x in range(2)]\n",
    "binom.append(1 - sum(binom))\n",
    "expected = [p*200 for p in binom]\n",
    "\n",
    "stats.chisquare(observed, f_exp=expected)\n",
    "\n",
    "# we can rejeect the H0, since p-value <0.05"
   ]
  },
  {
   "cell_type": "markdown",
   "metadata": {},
   "source": [
    "## Question 5\n",
    "A researcher gathers information about the patterns of Physical Activity of children in the fifth grade of primary school of a public school. He defines three categories of physical activity (Low, Medium, High). He also inquires about the regular consumption of sugary drinks at school, and defines two categories (Yes = consumed, No = not consumed). We would like to evaluate if there is an association between patterns of physical activity and the consumption of sugary drinks for the children of this school, at a level of 5% significance. The results are in the following table: \n",
    "\n",
    "![](table4.png)"
   ]
  },
  {
   "cell_type": "code",
   "execution_count": 15,
   "metadata": {},
   "outputs": [
    {
     "name": "stdout",
     "output_type": "stream",
     "text": [
      "10.712198008709638\n",
      "11.070497693516351\n"
     ]
    }
   ],
   "source": [
    "obs = np.array([32,12,14,22,6,9])\n",
    "total = 95\n",
    "\n",
    "#number sugary drinks * number of activity level x and weight to the total\n",
    "expected = [52*44/total,43*44/total,52*36/total,43*36/total,52*15/total,43*15/total] \n",
    "\n",
    "chi_squared_statistic = sum((obs - expected)**2/expected)\n",
    "\n",
    "\n",
    "alpha = 0.05\n",
    "critical_value=stats.chi2.ppf(q=1-alpha,df=len(expected) - 1)\n",
    "\n",
    "print(chi_squared_statistic)\n",
    "print(critical_value)\n",
    "\n",
    "#chi stat < critical value H0 can't be rejected"
   ]
  }
 ],
 "metadata": {
  "kernelspec": {
   "display_name": "Python 3",
   "language": "python",
   "name": "python3"
  },
  "language_info": {
   "codemirror_mode": {
    "name": "ipython",
    "version": 3
   },
   "file_extension": ".py",
   "mimetype": "text/x-python",
   "name": "python",
   "nbconvert_exporter": "python",
   "pygments_lexer": "ipython3",
   "version": "3.7.4"
  }
 },
 "nbformat": 4,
 "nbformat_minor": 2
}
